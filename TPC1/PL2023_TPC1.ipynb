{
  "nbformat": 4,
  "nbformat_minor": 0,
  "metadata": {
    "colab": {
      "provenance": []
    },
    "kernelspec": {
      "name": "python3",
      "display_name": "Python 3"
    },
    "language_info": {
      "name": "python"
    }
  },
  "cells": [
    {
      "cell_type": "markdown",
      "source": [
        "#Enunciados dos Trabalhos para Casa (TPC)\n",
        "da UC de **Processamento de Linguagens**,\n",
        "ano Letivo 2022/23 , 3º ano de LEI\n",
        "\n",
        "Relativos à 1º parte do programa: Filtros de Texto baseados em ER\n",
        "**texto em negrito**"
      ],
      "metadata": {
        "id": "E3nUK-2PqERR"
      }
    },
    {
      "cell_type": "markdown",
      "source": [
        "# TPC1: Análise de dados: doença cardíaca\n",
        "(publicado em **2023.02.14**)\n",
        "\n",
        "Descarregue o ficheiro de dados: `myheart.csv`\n",
        "Crie um programa em Python, conjunto de funções, que responda às seguintes questões:\n",
        "* Crie uma função que lê a informação do ficheiro para um modelo, previamente pensado em memória;\n",
        "* Pense num modelo para guardar uma distribuição;\n",
        "* Crie uma função que calcula a distribuição da doença por sexo;\n",
        "* Crie uma função que calcula a distribuição da doença por escalões etários. Considere os seguintes escalões: [30-34], [35-39], [40-44], ...\n",
        "* Crie uma função que calcula a distribuição da doença por níveis de colesterol. Considere um nível igual a um intervalo de 10 unidades, comece no limite inferior e crie os níveis necessários até abranger o limite superior;\n",
        "* Crie uma função que imprime na forma de uma tabela uma distribuição;\n",
        "* Especifique um programa que ao executar apresenta as tabelas correspondentes às distribuições pedidas;\n",
        "* Extra: explore o módulo matplotlib e crie gráficos para as suas distribuições."
      ],
      "metadata": {
        "id": "0JpXqXdRLYK6"
      }
    },
    {
      "cell_type": "markdown",
      "source": [
        "Bibliotecas utilizadas\n"
      ],
      "metadata": {
        "id": "hKOM01RgDuFp"
      }
    },
    {
      "cell_type": "code",
      "source": [
        "import os\n",
        "import matplotlib.pyplot as plt"
      ],
      "metadata": {
        "id": "2asFva2RDxta"
      },
      "execution_count": 13,
      "outputs": []
    },
    {
      "cell_type": "markdown",
      "source": [
        "Crie uma função que lê a informação do ficheiro para um modelo, previamente pensado em memória;"
      ],
      "metadata": {
        "id": "XkeLTWT3ECRq"
      }
    },
    {
      "cell_type": "code",
      "source": [
        "def read_data(file):\n",
        "    with open(file) as file:\n",
        "        content = file.readlines()\n",
        "\n",
        "    data = []\n",
        "\n",
        "    for line in content[1:]:  # remove header\n",
        "        idade, sexo, tensão, colesterol, batimento, temDoença = line.strip().split(\",\")\n",
        "        data.append((int(idade), sexo, int(tensão), int(colesterol), int(batimento), bool(int(temDoença))))\n",
        "\n",
        "    return data"
      ],
      "metadata": {
        "id": "jWDofx8GEH8o"
      },
      "execution_count": 14,
      "outputs": []
    },
    {
      "cell_type": "markdown",
      "source": [
        "Pense num modelo para guardar uma distribuição e Crie uma função que imprime na forma de uma tabela uma distribuição;"
      ],
      "metadata": {
        "id": "w4rqtUB0EWuz"
      }
    },
    {
      "cell_type": "code",
      "source": [
        "class Dist:\n",
        "    def __init__(self, data={}, metric=\"\"):\n",
        "        # data should be a list of tuples\n",
        "        # where first element is the value and second element is the frequency\n",
        "        self.data = data\n",
        "        # name of the distribution\n",
        "        self.name = metric\n",
        "\n",
        "    def __repr__(self):\n",
        "        i = 0\n",
        "        if self.name == \"género\":\n",
        "            i = 23\n",
        "        elif self.name == \"colesterol\":\n",
        "            i = 27\n",
        "        else:\n",
        "            i = 22\n",
        "\n",
        "        print(\"+\" + \"-\" * i + \"+\")\n",
        "        print(f\"|  {self.name}  | doentes(%) |\")\n",
        "        print(\"+\" + \"-\" * i + \"+\")\n",
        "        for pair in self.data.items():\n",
        "            if self.name == \"idade\":\n",
        "                print(f\"| [{pair[0][0]}-{pair[0][1]}] |   {pair[1]:.2f}%   |\")\n",
        "            elif self.name == \"género\":\n",
        "                print(f\"|   {pair[0]}      |    {pair[1]:.2f}%  |\")\n",
        "            else:\n",
        "                if pair[0][0] < 100:\n",
        "                    print(f\"|  [{pair[0][0]}-{pair[0][1]}]    |   {pair[1]:.2f}%   |\")\n",
        "                else:\n",
        "                    if pair[1] < 100:\n",
        "                        print(f\"|  [{pair[0][0]}-{pair[0][1]}]   |   {pair[1]:.2f}%   |\")\n",
        "                    else:\n",
        "                        print(f\"|  [{pair[0][0]}-{pair[0][1]}]   |   {pair[1]:.2f}%  |\")\n",
        "        print(\"+\" + \"-\" * i + \"+\")\n"
      ],
      "metadata": {
        "id": "0uzgRFCwEQGw"
      },
      "execution_count": 15,
      "outputs": []
    },
    {
      "cell_type": "markdown",
      "source": [
        "Crie uma função que calcula a distribuição da doença por sexo;"
      ],
      "metadata": {
        "id": "RBLuh5jqEbIN"
      }
    },
    {
      "cell_type": "code",
      "source": [
        "def dist_gender(data):\n",
        "    totalgender = {\"F\": 0, \"M\": 0}\n",
        "    distgender = {}\n",
        "    for d in data:\n",
        "        totalgender[d[1]] += 1\n",
        "        if d[-1]:\n",
        "            if d[1] not in distgender:\n",
        "                distgender[d[1]] = 0\n",
        "            distgender[d[1]] += 1\n",
        "    distgender[\"F\"] = (distgender[\"F\"] / totalgender[\"F\"]) * 100\n",
        "    distgender[\"M\"] = (distgender[\"M\"] / totalgender[\"M\"]) * 100\n",
        "\n",
        "    return distgender"
      ],
      "metadata": {
        "id": "OdGX79ifEVB1"
      },
      "execution_count": 16,
      "outputs": []
    },
    {
      "cell_type": "markdown",
      "source": [
        "Crie uma função que calcula a distribuição da doença por escalões etários."
      ],
      "metadata": {
        "id": "w-PAwTLFEhV_"
      }
    },
    {
      "cell_type": "code",
      "source": [
        "def dist_idade(data):\n",
        "    distidade = {}\n",
        "    maxIdade = max([d[0] for d in data])\n",
        "\n",
        "    for idade in range(30, maxIdade, 5):\n",
        "        total = [d for d in data if d[0] in range(idade, idade + 5)]  # intervalos de 5 em 5\n",
        "        doentes = [d for d in total if d[5]]  # doentes pertencentes ao intervalo de idade\n",
        "        distidade[(idade, idade + 4)] = (len(doentes) / len(total)) * 100\n",
        "\n",
        "    return distidade"
      ],
      "metadata": {
        "id": "qpEpxLhTEj7J"
      },
      "execution_count": 17,
      "outputs": []
    },
    {
      "cell_type": "markdown",
      "source": [
        "Crie uma função que calcula a distribuição da doença por níveis de colesterol. "
      ],
      "metadata": {
        "id": "tz_TDhrtElnO"
      }
    },
    {
      "cell_type": "code",
      "source": [
        "def dist_colesterol(data):\n",
        "    distcolesterol = {}\n",
        "    maxColesterol = max([d[3] for d in data])\n",
        "    minColesterol = min([d[3] for d in data if d[3] != 0 and d[5]])  # desconsidero dados que contém 0 de colesterol\n",
        "\n",
        "    for colesterol in range(minColesterol, maxColesterol, 10):\n",
        "        total = [d for d in data if d[3] in range(colesterol, colesterol + 10) and d[3] != 0]  # intervalos de 10 em 10\n",
        "        doentes = [d for d in total if d[5] and d[3] != 0]\n",
        "        if doentes:\n",
        "            distcolesterol[(colesterol, colesterol + 9)] = (len(doentes) / len(total)) * 100\n",
        "\n",
        "    return distcolesterol"
      ],
      "metadata": {
        "id": "dLw2ehBmEoVp"
      },
      "execution_count": 18,
      "outputs": []
    },
    {
      "cell_type": "markdown",
      "source": [
        "Extra: explore o módulo matplotlib e crie gráficos para as suas distribuições."
      ],
      "metadata": {
        "id": "0xGjlvBQEtDW"
      }
    },
    {
      "cell_type": "code",
      "source": [
        "def grafico(dist, metric):\n",
        "    values = list(map(str, dist.keys()))\n",
        "    percentages = list(dist.values())\n",
        "\n",
        "    fig = plt.figure(figsize=(10, 5))\n",
        "\n",
        "    fig, ax = plt.subplots()\n",
        "\n",
        "    ax.set_title(f\"Distribuição da doença por {metric}\")\n",
        "    ax.set_ylabel(\"Número de pessoas\")\n",
        "    ax.set_xlabel(f\"{metric}\")\n",
        "\n",
        "    ax.bar(values, percentages, color='pink',\n",
        "           width=0.4)\n",
        "\n",
        "    # set the x-tick labels with more space between them\n",
        "    ax.set_xticks(range(len(dist)))\n",
        "    ax.set_xticklabels(dist.keys(), rotation=45, ha='right')\n",
        "\n",
        "    # add padding to the bottom of the plot\n",
        "    plt.tight_layout(pad=3)\n",
        "\n",
        "    # display the graph\n",
        "    plt.show()"
      ],
      "metadata": {
        "id": "TakrDiBSErK7"
      },
      "execution_count": 22,
      "outputs": []
    },
    {
      "cell_type": "markdown",
      "source": [
        "Especifique um programa que ao executar apresenta as tabelas correspondentes às distribuições pedidas;"
      ],
      "metadata": {
        "id": "nrvSff0CEwRS"
      }
    },
    {
      "cell_type": "code",
      "source": [
        "def main():\n",
        "    data = read_data(\"myheart.csv\")\n",
        "    saida = -1\n",
        "    ageDist = Dist()\n",
        "    genderDist = Dist()\n",
        "    colesterolDist = Dist()\n",
        "    while saida != 0:\n",
        "        print(\"\")\n",
        "        print(\"1. Distribuição da doença por sexo\")\n",
        "        print(\"2. Distribuição da doença por escalões etários\")\n",
        "        print(\"3. Distribuição da doença por níveis de colesterol\")\n",
        "        print(\"4. Gráficos da distribuição da doença por sexo\")\n",
        "        print(\"5. Gráficos da distribuição da doença por escalões etários\")\n",
        "        print(\"6. Gráficos da distribuição da doença por níveis de colesterol\")\n",
        "        print(\"0. Sair\")\n",
        "\n",
        "        saida = int(input(\"introduza a sua opção-> \"))\n",
        "\n",
        "        if saida == 0:\n",
        "            print(\"saindo.......\")\n",
        "        elif saida == 1:\n",
        "            genderDist.data = dist_gender(data)\n",
        "            genderDist.name = \"género\"\n",
        "            genderDist.__repr__()\n",
        "        elif saida == 2:\n",
        "            ageDist.data = dist_idade(data)\n",
        "            ageDist.name = \"idade\"\n",
        "            ageDist.__repr__()\n",
        "        elif saida == 3:\n",
        "            colesterolDist.data = dist_colesterol(data)\n",
        "            colesterolDist.name = \"colesterol\"\n",
        "            colesterolDist.__repr__()\n",
        "        elif saida == 4:\n",
        "            if genderDist.name == \"\":\n",
        "                genderDist.data = dist_gender(data)\n",
        "                genderDist.name = \"género\"\n",
        "            grafico(genderDist.data, \"sexo\")\n",
        "        elif saida == 5:\n",
        "            if ageDist.name == \"\":\n",
        "                ageDist.data = dist_idade(data)\n",
        "                ageDist.name = \"idade\"\n",
        "            grafico(ageDist.data, \"escalões etários\")\n",
        "        elif saida == 6:\n",
        "            if colesterolDist.name == \"\":\n",
        "                colesterolDist.data = dist_colesterol(data)\n",
        "                colesterolDist.name = \"colesterol\"\n",
        "            grafico(colesterolDist.data, \"níveis de colesterol\")\n",
        "        else:\n",
        "            print(\"you didn't add anything\")\n",
        "        if saida != 0:\n",
        "            l = input(\"prima enter para continuar\")\n",
        "\n",
        "        os.system('clear')\n",
        "\n",
        "\n",
        "main()\n"
      ],
      "metadata": {
        "colab": {
          "base_uri": "https://localhost:8080/",
          "height": 1000
        },
        "id": "TXyTDyYbE0cg",
        "outputId": "31037853-5fbd-4670-ddfd-8b92557400f9"
      },
      "execution_count": 23,
      "outputs": [
        {
          "name": "stdout",
          "output_type": "stream",
          "text": [
            "\n",
            "1. Distribuição da doença por sexo\n",
            "2. Distribuição da doença por escalões etários\n",
            "3. Distribuição da doença por níveis de colesterol\n",
            "4. Gráficos da distribuição da doença por sexo\n",
            "5. Gráficos da distribuição da doença por escalões etários\n",
            "6. Gráficos da distribuição da doença por níveis de colesterol\n",
            "0. Sair\n",
            "introduza a sua opção-> 1\n",
            "+-----------------------+\n",
            "|  género  | doentes(%) |\n",
            "+-----------------------+\n",
            "|   F      |    23.67%  |\n",
            "|   M      |    63.88%  |\n",
            "+-----------------------+\n",
            "prima enter para continuar\n",
            "\n",
            "1. Distribuição da doença por sexo\n",
            "2. Distribuição da doença por escalões etários\n",
            "3. Distribuição da doença por níveis de colesterol\n",
            "4. Gráficos da distribuição da doença por sexo\n",
            "5. Gráficos da distribuição da doença por escalões etários\n",
            "6. Gráficos da distribuição da doença por níveis de colesterol\n",
            "0. Sair\n",
            "introduza a sua opção-> 4\n"
          ]
        },
        {
          "output_type": "display_data",
          "data": {
            "text/plain": [
              "<Figure size 720x360 with 0 Axes>"
            ]
          },
          "metadata": {}
        },
        {
          "output_type": "display_data",
          "data": {
            "text/plain": [
              "<Figure size 432x288 with 1 Axes>"
            ],
            "image/png": "[encoded data removed]"
          },
          "metadata": {
            "needs_background": "light"
          }
        },
        {
          "name": "stdout",
          "output_type": "stream",
          "text": [
            "prima enter para continuar\n",
            "\n",
            "1. Distribuição da doença por sexo\n",
            "2. Distribuição da doença por escalões etários\n",
            "3. Distribuição da doença por níveis de colesterol\n",
            "4. Gráficos da distribuição da doença por sexo\n",
            "5. Gráficos da distribuição da doença por escalões etários\n",
            "6. Gráficos da distribuição da doença por níveis de colesterol\n",
            "0. Sair\n",
            "introduza a sua opção-> 2\n",
            "+----------------------+\n",
            "|  idade  | doentes(%) |\n",
            "+----------------------+\n",
            "| [30-34] |   35.29%   |\n",
            "| [35-39] |   35.85%   |\n",
            "| [40-44] |   30.68%   |\n",
            "| [45-49] |   47.66%   |\n",
            "| [50-54] |   49.40%   |\n",
            "| [55-59] |   66.28%   |\n",
            "| [60-64] |   74.81%   |\n",
            "| [65-69] |   69.23%   |\n",
            "| [70-74] |   73.91%   |\n",
            "| [75-79] |   71.43%   |\n",
            "+----------------------+\n",
            "prima enter para continuar\n",
            "\n",
            "1. Distribuição da doença por sexo\n",
            "2. Distribuição da doença por escalões etários\n",
            "3. Distribuição da doença por níveis de colesterol\n",
            "4. Gráficos da distribuição da doença por sexo\n",
            "5. Gráficos da distribuição da doença por escalões etários\n",
            "6. Gráficos da distribuição da doença por níveis de colesterol\n",
            "0. Sair\n",
            "introduza a sua opção-> 5\n"
          ]
        },
        {
          "output_type": "display_data",
          "data": {
            "text/plain": [
              "<Figure size 720x360 with 0 Axes>"
            ]
          },
          "metadata": {}
        },
        {
          "output_type": "display_data",
          "data": {
            "text/plain": [
              "<Figure size 432x288 with 1 Axes>"
            ],
            "image/png": "[encoded data removed]"
          },
          "metadata": {
            "needs_background": "light"
          }
        },
        {
          "name": "stdout",
          "output_type": "stream",
          "text": [
            "prima enter para continuar\n",
            "\n",
            "1. Distribuição da doença por sexo\n",
            "2. Distribuição da doença por escalões etários\n",
            "3. Distribuição da doença por níveis de colesterol\n",
            "4. Gráficos da distribuição da doença por sexo\n",
            "5. Gráficos da distribuição da doença por escalões etários\n",
            "6. Gráficos da distribuição da doença por níveis de colesterol\n",
            "0. Sair\n",
            "introduza a sua opção-> 3\n",
            "+---------------------------+\n",
            "|  colesterol  | doentes(%) |\n",
            "+---------------------------+\n",
            "|  [100-109]   |   50.00%   |\n",
            "|  [110-119]   |   100.00%  |\n",
            "|  [120-129]   |   50.00%   |\n",
            "|  [130-139]   |   33.33%   |\n",
            "|  [140-149]   |   33.33%   |\n",
            "|  [150-159]   |   75.00%   |\n",
            "|  [160-169]   |   27.27%   |\n",
            "|  [170-179]   |   50.00%   |\n",
            "|  [180-189]   |   32.00%   |\n",
            "|  [190-199]   |   29.73%   |\n",
            "|  [200-209]   |   40.43%   |\n",
            "|  [210-219]   |   47.54%   |\n",
            "|  [220-229]   |   42.86%   |\n",
            "|  [230-239]   |   49.02%   |\n",
            "|  [240-249]   |   44.68%   |\n",
            "|  [250-259]   |   45.00%   |\n",
            "|  [260-269]   |   57.14%   |\n",
            "|  [270-279]   |   45.00%   |\n",
            "|  [280-289]   |   74.29%   |\n",
            "|  [290-299]   |   50.00%   |\n",
            "|  [300-309]   |   46.15%   |\n",
            "|  [310-319]   |   53.33%   |\n",
            "|  [320-329]   |   44.44%   |\n",
            "|  [330-339]   |   88.89%   |\n",
            "|  [340-349]   |   62.50%   |\n",
            "|  [350-359]   |   33.33%   |\n",
            "|  [360-369]   |   33.33%   |\n",
            "|  [380-389]   |   66.67%   |\n",
            "|  [390-399]   |   50.00%   |\n",
            "|  [400-409]   |   100.00%  |\n",
            "|  [460-469]   |   50.00%   |\n",
            "|  [490-499]   |   100.00%  |\n",
            "|  [510-519]   |   100.00%  |\n",
            "|  [520-529]   |   100.00%  |\n",
            "|  [600-609]   |   100.00%  |\n",
            "+---------------------------+\n",
            "prima enter para continuar\n",
            "\n",
            "1. Distribuição da doença por sexo\n",
            "2. Distribuição da doença por escalões etários\n",
            "3. Distribuição da doença por níveis de colesterol\n",
            "4. Gráficos da distribuição da doença por sexo\n",
            "5. Gráficos da distribuição da doença por escalões etários\n",
            "6. Gráficos da distribuição da doença por níveis de colesterol\n",
            "0. Sair\n",
            "introduza a sua opção-> 6\n"
          ]
        },
        {
          "output_type": "display_data",
          "data": {
            "text/plain": [
              "<Figure size 720x360 with 0 Axes>"
            ]
          },
          "metadata": {}
        },
        {
          "output_type": "display_data",
          "data": {
            "text/plain": [
              "<Figure size 432x288 with 1 Axes>"
            ],
            "image/png": "[encoded data removed]"
          },
          "metadata": {
            "needs_background": "light"
          }
        },
        {
          "output_type": "stream",
          "name": "stdout",
          "text": [
            "prima enter para continuar\n",
            "\n",
            "1. Distribuição da doença por sexo\n",
            "2. Distribuição da doença por escalões etários\n",
            "3. Distribuição da doença por níveis de colesterol\n",
            "4. Gráficos da distribuição da doença por sexo\n",
            "5. Gráficos da distribuição da doença por escalões etários\n",
            "6. Gráficos da distribuição da doença por níveis de colesterol\n",
            "0. Sair\n",
            "introduza a sua opção-> 0\n",
            "saindo.......\n"
          ]
        }
      ]
    }
  ]
}